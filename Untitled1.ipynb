{
 "cells": [
  {
   "cell_type": "code",
   "execution_count": 16,
   "id": "219f2eec",
   "metadata": {},
   "outputs": [],
   "source": [
    "from src.LDVisualization.inputHandlers import drop_down"
   ]
  },
  {
   "cell_type": "code",
   "execution_count": 17,
   "id": "a531dc4f",
   "metadata": {},
   "outputs": [
    {
     "ename": "TypeError",
     "evalue": "drop_down() missing 1 required positional argument: 'options'",
     "output_type": "error",
     "traceback": [
      "\u001b[0;31m---------------------------------------------------------------------------\u001b[0m",
      "\u001b[0;31mTypeError\u001b[0m                                 Traceback (most recent call last)",
      "Cell \u001b[0;32mIn [17], line 1\u001b[0m\n\u001b[0;32m----> 1\u001b[0m \u001b[43mdrop_down\u001b[49m\u001b[43m(\u001b[49m\u001b[43m)\u001b[49m\n",
      "\u001b[0;31mTypeError\u001b[0m: drop_down() missing 1 required positional argument: 'options'"
     ]
    }
   ],
   "source": [
    "drop_down()"
   ]
  },
  {
   "cell_type": "code",
   "execution_count": null,
   "id": "333e9732",
   "metadata": {},
   "outputs": [],
   "source": []
  }
 ],
 "metadata": {
  "kernelspec": {
   "display_name": "Python 3 (ipykernel)",
   "language": "python",
   "name": "python3"
  },
  "language_info": {
   "codemirror_mode": {
    "name": "ipython",
    "version": 3
   },
   "file_extension": ".py",
   "mimetype": "text/x-python",
   "name": "python",
   "nbconvert_exporter": "python",
   "pygments_lexer": "ipython3",
   "version": "3.8.10"
  }
 },
 "nbformat": 4,
 "nbformat_minor": 5
}
