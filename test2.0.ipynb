{
 "cells": [
  {
   "cell_type": "markdown",
   "id": "f54b434e",
   "metadata": {},
   "source": [
    "<h2 style=\"font-family: Arial, Helvetica, sans-serif; text-align:center;\">Lightning Dashboard <h2>"
   ]
  },
  {
   "cell_type": "code",
   "execution_count": null,
   "id": "67273970",
   "metadata": {},
   "outputs": [],
   "source": [
    "<span style=\"font-family: Arial, Helvetica, sans-serif; font-size: 16px; font-weight:bold\">\n",
    "    Optionally installing the required libraries depending on whether the system already has it\n",
    "<span>"
   ]
  },
  {
   "cell_type": "code",
   "execution_count": 1,
   "id": "1bb14c8f",
   "metadata": {},
   "outputs": [],
   "source": [
    "from src.Lightning2DVisualization.inputHandlers import drop_down"
   ]
  },
  {
   "cell_type": "code",
   "execution_count": 2,
   "id": "2f914a97",
   "metadata": {},
   "outputs": [
    {
     "name": "stdout",
     "output_type": "stream",
     "text": [
      "Select a dataset from the options below: "
     ]
    },
    {
     "data": {
      "application/vnd.jupyter.widget-view+json": {
       "model_id": "01a674eace3b4f42a7166a42e48a7bc2",
       "version_major": 2,
       "version_minor": 0
      },
      "text/plain": [
       "Dropdown(options=('TRMM_LIS_FULL', 'TRMM_LIS_SEASONAL', 'TRMM_LIS_MONTHLY', 'TRMM_LIS_DIURNAL', 'TRMM_LIS_DAIL…"
      ]
     },
     "metadata": {},
     "output_type": "display_data"
    },
    {
     "data": {
      "application/vnd.jupyter.widget-view+json": {
       "model_id": "010e6ea00dd541a8af3c4933189b9324",
       "version_major": 2,
       "version_minor": 0
      },
      "text/plain": [
       "Output()"
      ]
     },
     "metadata": {},
     "output_type": "display_data"
    }
   ],
   "source": [
    "drop_down()"
   ]
  },
  {
   "cell_type": "code",
   "execution_count": null,
   "id": "d1f6e8b1",
   "metadata": {},
   "outputs": [],
   "source": []
  },
  {
   "cell_type": "code",
   "execution_count": null,
   "id": "02e20ba6",
   "metadata": {},
   "outputs": [],
   "source": []
  }
 ],
 "metadata": {
  "kernelspec": {
   "display_name": "Python 3 (ipykernel)",
   "language": "python",
   "name": "python3"
  },
  "language_info": {
   "codemirror_mode": {
    "name": "ipython",
    "version": 3
   },
   "file_extension": ".py",
   "mimetype": "text/x-python",
   "name": "python",
   "nbconvert_exporter": "python",
   "pygments_lexer": "ipython3",
   "version": "3.8.10"
  }
 },
 "nbformat": 4,
 "nbformat_minor": 5
}
