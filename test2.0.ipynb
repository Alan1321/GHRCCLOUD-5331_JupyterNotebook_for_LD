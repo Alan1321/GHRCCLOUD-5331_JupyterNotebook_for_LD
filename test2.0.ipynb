{
 "cells": [
  {
   "cell_type": "markdown",
   "id": "ab4dd389",
   "metadata": {},
   "source": [
    "<h1 style=\"font-family: Arial, Helvetica, sans-serif; text-align:center;\">Lightning Dashboard <h1>"
   ]
  },
  {
   "cell_type": "markdown",
   "id": "9296f4a5",
   "metadata": {},
   "source": [
    "<hr style=\"background-color: black; height: 2px; border: none; margin: 5px 0; font-weight: bold;\">\n",
    "<h1 style=\"font-family: Arial, Helvetica, sans-serif; font-size: 16px; font-weight:bold; text-align:center\">\n",
    "    **Showing how COG (Cloud Optimized Geotiff Images) are visualized with mapbox using TRMM_LIS_FULL as a sample example.**\n",
    "</h1>\n",
    "<hr style=\"background-color: black; height: 2px; border: none; margin: 5px 0; font-weight: bold;\">"
   ]
  },
  {
   "cell_type": "markdown",
   "id": "ae4d025a",
   "metadata": {},
   "source": [
    "<span style=\"font-family: Arial, Helvetica, sans-serif; font-size: 16px; font-weight:bold\">\n",
    "    TRMM_LIS_FULL netcdf4 file is grabbed from the EDS and is converted to COG using the rasterio library. COGs are then added to the s3 bucket and the tiling server (terracotta) is configured then deployed to the AWS.\n",
    "</span>"
   ]
  },
  {
   "cell_type": "code",
   "execution_count": 91,
   "id": "07ffee7c",
   "metadata": {},
   "outputs": [],
   "source": [
    "#base url of the deployed terracotta server\n",
    "base_url = \"https://wug8w3fg42.execute-api.us-west-2.amazonaws.com/development/singleband/\"\n",
    "\n",
    "#url for the trmm lis full dataset\n",
    "trmm_lis_full = \"VHRFC/201301/LIS/{z}/{x}/{y}.png?colormap=terrain&stretch_range=[0.325,23.426]\"\n",
    "\n",
    "#sample url for other datasets (proper date/time need to be added to each url to get proper COG response from the server)\n",
    "trmm_lis_seasonal = \"VHRSC/{date}/LIS/{z}/{x}/{y}.png?colormap=terrain&stretch_range=[0.00010455249866936,0.06766455620527]\"\n",
    "otd_monthly = \"HRMC/{date}/OTD/{z}/{x}/{y}.png?colormap=terrain&stretch_range=[0,0.2]\"\n",
    "isslis = \"ISS_LIS/{date}/{time}/{z}/{x}/{y}.png?colormap=terrain&stretch_range=[0,0]\"\n",
    "nalma = \"NALMA_{time}/{date}/{band}/{z}/{x}/{y}.png?colormap=terrain&stretch_range=[0,1]\""
   ]
  },
  {
   "cell_type": "markdown",
   "id": "46e9ad83",
   "metadata": {},
   "source": [
    "<span style=\"font-family: Arial, Helvetica, sans-serif; font-size: 16px; font-weight:bold; text-align:center\">\n",
    "    Optionally installing the required libraries depending on whether the system already has it\n",
    "</span>"
   ]
  },
  {
   "cell_type": "code",
   "execution_count": 92,
   "id": "d3c96f69",
   "metadata": {},
   "outputs": [
    {
     "name": "stdout",
     "output_type": "stream",
     "text": [
      "plotly is already installed.\n",
      "rasterio is already installed.\n",
      "pandas is already installed.\n",
      "requests is already installed.\n"
     ]
    }
   ],
   "source": [
    "import importlib\n",
    "\n",
    "# List of packages to install\n",
    "packages_to_install = [\n",
    "    'plotly',\n",
    "    'rasterio',\n",
    "    'pandas',\n",
    "    'requests',\n",
    "]\n",
    "\n",
    "for package_name in packages_to_install:\n",
    "    if importlib.util.find_spec(package_name) is None:\n",
    "        !pip install {package_name}\n",
    "    else:\n",
    "        print(f\"{package_name} is already installed.\")"
   ]
  },
  {
   "cell_type": "markdown",
   "id": "c9c5de82",
   "metadata": {},
   "source": [
    "<span style=\"font-family: Arial, Helvetica, sans-serif; font-size: 16px; font-weight:bold; text-align:center\">\n",
    "    Importing Libraries used for Visualization\n",
    "</span>"
   ]
  },
  {
   "cell_type": "code",
   "execution_count": 93,
   "id": "0cf9be21",
   "metadata": {},
   "outputs": [],
   "source": [
    "import plotly.io as pio\n",
    "import plotly.express as px\n",
    "import rasterio\n",
    "from rasterio.plot import show\n",
    "import pandas as pd\n",
    "import requests"
   ]
  },
  {
   "cell_type": "markdown",
   "id": "1f2b84b8",
   "metadata": {},
   "source": [
    "<span style=\"font-family: Arial, Helvetica, sans-serif; font-size: 16px; font-weight:bold; text-align:center\">\n",
    "    Function Below visualizes COG on mapbox. COG image url needs to be passed\n",
    "</span>"
   ]
  },
  {
   "cell_type": "code",
   "execution_count": 94,
   "id": "33553291",
   "metadata": {},
   "outputs": [],
   "source": [
    "#this function visualized any given COG inside of a mapbox view\n",
    "def visualize_COG(layer_url, zoom=1, center={\"lat\": 33.543682, \"lon\": -86.779633}):\n",
    "    pio.renderers.default = 'iframe'\n",
    "    styles_list = [\n",
    "        \"carto-darkmatter\",\n",
    "        \"carto-positron\",\n",
    "        \"open-street-map\",\n",
    "        \"stamen-terrain\",\n",
    "        \"stamen-toner\",\n",
    "        \"stamen-watercolor\",\n",
    "        \"white-bg\"\n",
    "    ]\n",
    "    style = styles_list[1]\n",
    "    # seed value, for mapbox to load in colab\n",
    "    df = pd.DataFrame([[1001, 5.3],[1001, 5.3]])\n",
    "    df.columns = [\"flips\", \"unemp\"]\n",
    "    fig = px.choropleth_mapbox(\n",
    "                                df, \n",
    "                                color='unemp',\n",
    "                                color_continuous_scale=\"Viridis\",\n",
    "                                range_color=(0, 12),\n",
    "                                mapbox_style=style,\n",
    "                                center=center,\n",
    "                                opacity=1,\n",
    "                                zoom=zoom \n",
    "                              )\n",
    "    fig.update_layout(\n",
    "        mapbox_layers=[\n",
    "            {\n",
    "                \"sourcetype\": \"raster\",\n",
    "                \"source\": [layer_url]\n",
    "            }\n",
    "          ])\n",
    "    fig.update_layout(margin={\"r\":0,\"t\":0,\"l\":0,\"b\":0})\n",
    "    fig.update_layout(mapbox_style=style)\n",
    "    fig.layout.mapbox.zoom = zoom\n",
    "    fig.show()"
   ]
  },
  {
   "cell_type": "markdown",
   "id": "4b8c315a",
   "metadata": {},
   "source": [
    "<span style=\"font-family: Arial, Helvetica, sans-serif; font-size: 16px; font-weight:bold; text-align:center\">\n",
    "    Calling the visualize function (TRMM LIS FULL is visualized on the Mapbox)\n",
    "</span>"
   ]
  },
  {
   "cell_type": "code",
   "execution_count": 95,
   "id": "3b1d7d70",
   "metadata": {},
   "outputs": [
    {
     "data": {
      "text/html": [
       "<iframe\n",
       "    scrolling=\"no\"\n",
       "    width=\"100%\"\n",
       "    height=\"545px\"\n",
       "    src=\"iframe_figures/figure_95.html\"\n",
       "    frameborder=\"0\"\n",
       "    allowfullscreen\n",
       "></iframe>\n"
      ]
     },
     "metadata": {},
     "output_type": "display_data"
    }
   ],
   "source": [
    "visualize_COG(base_url+trmm_lis_full)"
   ]
  },
  {
   "cell_type": "markdown",
   "id": "5b2994fa",
   "metadata": {},
   "source": [
    "<hr style=\"background-color: black; height: 2px; border: none; margin: 5px 0; font-weight: bold;\">\n",
    "<h1 style=\"font-family: Arial, Helvetica, sans-serif; font-size: 16px; font-weight:bold; text-align:center\">\n",
    "    Package below uses the same concept as above to visualize all the current available datasets on the Lightning Dashboard.\n",
    "</h1>\n",
    "<hr style=\"background-color: black; height: 2px; border: none; margin: 5px 0; font-weight: bold;\">"
   ]
  },
  {
   "cell_type": "code",
   "execution_count": 96,
   "id": "1bb14c8f",
   "metadata": {},
   "outputs": [],
   "source": [
    "from src.Lightning2DVisualization.inputHandlers import drop_down"
   ]
  },
  {
   "cell_type": "code",
   "execution_count": 97,
   "id": "2f914a97",
   "metadata": {},
   "outputs": [
    {
     "name": "stdout",
     "output_type": "stream",
     "text": [
      "Select a dataset from the options below: "
     ]
    },
    {
     "data": {
      "application/vnd.jupyter.widget-view+json": {
       "model_id": "7f447f15966142d9823274e4094f39b3",
       "version_major": 2,
       "version_minor": 0
      },
      "text/plain": [
       "Dropdown(options=('TRMM_LIS_FULL', 'TRMM_LIS_SEASONAL', 'TRMM_LIS_MONTHLY', 'TRMM_LIS_DIURNAL', 'TRMM_LIS_DAIL…"
      ]
     },
     "metadata": {},
     "output_type": "display_data"
    },
    {
     "data": {
      "application/vnd.jupyter.widget-view+json": {
       "model_id": "08e64ea314404da9a3360dc2b34db77c",
       "version_major": 2,
       "version_minor": 0
      },
      "text/plain": [
       "Output()"
      ]
     },
     "metadata": {},
     "output_type": "display_data"
    }
   ],
   "source": [
    "drop_down()"
   ]
  },
  {
   "cell_type": "code",
   "execution_count": null,
   "id": "d1f6e8b1",
   "metadata": {},
   "outputs": [],
   "source": []
  },
  {
   "cell_type": "code",
   "execution_count": null,
   "id": "02e20ba6",
   "metadata": {},
   "outputs": [],
   "source": []
  }
 ],
 "metadata": {
  "kernelspec": {
   "display_name": "Python 3 (ipykernel)",
   "language": "python",
   "name": "python3"
  },
  "language_info": {
   "codemirror_mode": {
    "name": "ipython",
    "version": 3
   },
   "file_extension": ".py",
   "mimetype": "text/x-python",
   "name": "python",
   "nbconvert_exporter": "python",
   "pygments_lexer": "ipython3",
   "version": "3.8.10"
  }
 },
 "nbformat": 4,
 "nbformat_minor": 5
}
