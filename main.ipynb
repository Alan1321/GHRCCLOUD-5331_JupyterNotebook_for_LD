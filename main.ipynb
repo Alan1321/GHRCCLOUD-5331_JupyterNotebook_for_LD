{
 "cells": [
  {
   "cell_type": "code",
   "execution_count": 63,
   "id": "804bee51",
   "metadata": {},
   "outputs": [],
   "source": [
    "import rasterio\n",
    "from rasterio.plot import show\n",
    "from matplotlib import pyplot\n",
    "import plotly.io as pio\n",
    "import plotly.express as px\n",
    "import pandas as pd\n",
    "import ipywidgets as widgets\n",
    "from IPython.display import display\n",
    "from IPython.display import clear_output\n",
    "import requests\n",
    "import json"
   ]
  },
  {
   "cell_type": "code",
   "execution_count": 64,
   "id": "94b47739",
   "metadata": {},
   "outputs": [],
   "source": [
    "def visualize_COG(layer_url):\n",
    "    pio.renderers.default = 'notebook'\n",
    "    # pio.renderers.default = 'jupyterlab'\n",
    "    # pio.renderers.default = 'colab'\n",
    "\n",
    "    # seed value, for mapbox to load in colab\n",
    "    df = pd.DataFrame([[1001, 5.3],[1001, 5.3]])\n",
    "    df.columns = [\"flips\", \"unemp\"]\n",
    "    fig = px.choropleth_mapbox(\n",
    "                                df, \n",
    "                                color='unemp',\n",
    "                                color_continuous_scale=\"Viridis\",\n",
    "                                range_color=(0, 12),\n",
    "                                mapbox_style=\"carto-positron\",\n",
    "                                zoom=4, center = {\"lat\": 33.543682, \"lon\": -86.779633},\n",
    "                                opacity=0.5,\n",
    "                              )\n",
    "    fig.update_layout(\n",
    "        mapbox_layers=[\n",
    "            {\n",
    "                \"sourcetype\": \"raster\",\n",
    "                \"source\": [layer_url]\n",
    "            }\n",
    "          ])\n",
    "    fig.update_layout(margin={\"r\":0,\"t\":0,\"l\":0,\"b\":0})\n",
    "    #print(fig.layout.mapbox.layers)\n",
    "    fig.update_layout(mapbox_style=\"stamen-terrain\")\n",
    "    fig.layout.mapbox.zoom = 1\n",
    "    fig.show()\n",
    "    \n",
    "def get_key(data):\n",
    "    key = [key for key, value in data.items()]\n",
    "    return key"
   ]
  },
  {
   "cell_type": "code",
   "execution_count": 65,
   "id": "65aef1a0",
   "metadata": {},
   "outputs": [],
   "source": [
    "#constants\n",
    "DATASETS = ['TRMM_LIS_FULL','TRMM_LIS_SEASONAL','TRMM_LIS_MONTHLY', 'TRMM_LIS_DIURNAL', 'TRMM_LIS_DAILY',\n",
    "            'OTD_FULL','OTD_MONTHLY','OTD_DIURNAL','OTD_DAILY', 'ISSLIS', 'NALMA', 'HS3']\n",
    "BASE_URL = 'https://wug8w3fg42.execute-api.us-west-2.amazonaws.com/development/singleband/'\n",
    "\n",
    "#Datasets mapper\n",
    "\n",
    "#season_data\n",
    "seasons = {'Spring':'2013_03_01','Summer':'2013_07_01','Autumn':'2013_10_01','Winter':'2013_12_01'}\n",
    "\n",
    "#month_data\n",
    "months = {}\n",
    "for i in range(9):\n",
    "    months[f'{i+1}'] = f\"20130{i+1}\"\n",
    "months['10'] = '201310'\n",
    "months['11'] = '201311'\n",
    "months['12'] = '201312'\n",
    "\n",
    "#Diurnal_data\n",
    "diurnal = {}\n",
    "hour = 1\n",
    "for i in range(9):\n",
    "    diurnal[f'Hour {hour}'] = f'2013_0{i+1}_01'\n",
    "    hour+=1\n",
    "    diurnal[f'Hour {hour}'] = f'2013_0{i+1}_15'\n",
    "    hour+=1\n",
    "for i in range(3):\n",
    "    diurnal[f'Hour {hour}'] = f'2013_{i+10}_01'\n",
    "    hour+=1\n",
    "    diurnal[f'Hour {hour}'] = f'2013_{i+10}_15'\n",
    "    hour+=1\n",
    "\n",
    "#Daily data\n",
    "daily = {}\n",
    "calendar = [31, 28, 31, 30, 31, 30, 31, 31, 30, 31, 30, 31]\n",
    "count = 1\n",
    "day = 0\n",
    "for x in range(12):\n",
    "    month = '00'\n",
    "    if(x+1 <= 9):\n",
    "        month = f'0{x+1}'\n",
    "    else:\n",
    "        month = f'{x+1}'\n",
    "\n",
    "    for i in range(calendar[x]): \n",
    "        if i+1 <= 9:\n",
    "            daily[f\"Day {count}\"] = f\"2013_{month}_0{i+1}\"\n",
    "        else:\n",
    "            daily[f\"Day {count}\"] = f'2013_{month}_{i+1}'\n",
    "        count+=1"
   ]
  },
  {
   "cell_type": "code",
   "execution_count": 70,
   "id": "d90e7c2c",
   "metadata": {},
   "outputs": [],
   "source": [
    "def drop_down(options, value=None ,id=None, metadata={}):\n",
    "    dropdown = None\n",
    "    # Create the dropdown widget\n",
    "    if value != None:\n",
    "        dropdown = widgets.Dropdown(options=options, description='', value=value)\n",
    "    else:\n",
    "        dropdown = widgets.Dropdown(options=options, description='', value=None)\n",
    "    # Define a function to handle the dropdown's value change\n",
    "    def handle_dropdown_change(change):\n",
    "        selected_option = change.new\n",
    "        handle_dataset_input(options, selected_option, id, metadata=metadata)\n",
    "    # Attach the function to the dropdown's value change event\n",
    "    dropdown.observe(handle_dropdown_change, names='value')\n",
    "    # Display the dropdown widget\n",
    "    display(dropdown)\n",
    "\n",
    "\n",
    "def handle_dataset_input(options, selected_option, id, metadata={}):\n",
    "    if id == 'name':\n",
    "        metadata = {}\n",
    "        metadata['name'] = {}\n",
    "        metadata['name']['options'] = options\n",
    "        metadata['name']['selected_option'] = selected_option\n",
    "    else:\n",
    "        metadata[id] = {}\n",
    "        metadata[id]['options'] = options\n",
    "        metadata[id]['selected_option'] = selected_option\n",
    "    \n",
    "    if metadata['name']['selected_option'] == DATASETS[0]:\n",
    "        handle_trmm_lis_full(metadata)\n",
    "    elif metadata['name']['selected_option'] == DATASETS[1]:\n",
    "        handle_trmm_lis_seasonal(metadata)\n",
    "    elif metadata['name']['selected_option'] == DATASETS[2]:\n",
    "        handle_trmm_lis_monthly(metadata)\n",
    "    elif metadata['name']['selected_option'] == DATASETS[3]:\n",
    "        handle_trmm_lis_diurnal(metadata)\n",
    "    elif metadata['name']['selected_option'] == DATASETS[4]:\n",
    "        handle_trmm_lis_daily(metadata)\n",
    "    elif metadata['name']['selected_option'] == DATASETS[5]:\n",
    "        handle_otd_full(metadata)\n",
    "    elif metadata['name']['selected_option'] == DATASETS[6]:\n",
    "        handle_otd_monthly(metadata)\n",
    "    elif metadata['name']['selected_option'] == DATASETS[7]:\n",
    "        handle_otd_diurnal(metadata)\n",
    "    elif metadata['name']['selected_option'] == DATASETS[8]:\n",
    "        handle_otd_daily(metadata)\n",
    "    elif metadata['name']['selected_option'] == DATASETS[9]:\n",
    "        handle_isslis(metadata)\n",
    "    elif metadata['name']['selected_option'] == DATASETS[10]:\n",
    "        handle_nalma(metadata)\n",
    "    elif metadata['name']['selected_option'] == DATASETS[11]:\n",
    "        handle_hs3(metadata)\n",
    "#renders dropdown based on metadata\n",
    "def clear_cell_and_render(metadata={}):\n",
    "    clear_output(wait=True)\n",
    "    #rendering name\n",
    "    print(\"Select a dataset from the options below: \", end=\"\")\n",
    "    drop_down(metadata['name']['options'], value=metadata['name']['selected_option'], id='name')\n",
    "    \n",
    "    if metadata.get('arg2') != None:\n",
    "        print(\"Select year: \", end=\"\")\n",
    "        drop_down(metadata['arg2']['options'], id='arg2', metadata=metadata, value=metadata['arg2']['selected_option'])\n",
    "\n",
    "    if metadata.get('arg3') != None:\n",
    "        print(\"Select month: \", end=\"\")\n",
    "        drop_down(metadata['arg3']['options'], id='arg3', metadata=metadata, value=metadata['arg3']['selected_option'])\n",
    "        \n",
    "    if metadata.get('arg4') != None:\n",
    "        print(\"Select day: \", end=\"\")\n",
    "        drop_down(metadata['arg4']['options'], id='arg4', metadata=metadata, value=metadata['arg4']['selected_option'])\n",
    "        \n",
    "    if metadata.get('arg5') != None:\n",
    "        print(\"Select Time/Instrument: \", end=\"\")\n",
    "        drop_down(metadata['arg5']['options'], id='arg5', metadata=metadata, value=metadata['arg5']['selected_option'])"
   ]
  },
  {
   "cell_type": "code",
   "execution_count": 78,
   "id": "bece3aaf",
   "metadata": {},
   "outputs": [],
   "source": [
    "#handlers for different datasets\n",
    "\n",
    "################################################Handlers for TRMM-LIS dataset################################################\n",
    "def handle_trmm_lis_full(metadata={}):\n",
    "    clear_cell_and_render(metadata)\n",
    "    visualize_COG(BASE_URL+\"VHRFC/201301/LIS/{z}/{x}/{y}.png?colormap=terrain&stretch_range=[0.325,23.426]\")\n",
    "def handle_trmm_lis_seasonal(metadata={}):\n",
    "    clear_cell_and_render(metadata) \n",
    "    #name is already selected, ask for which season now\n",
    "    if metadata.get('arg2') != None:\n",
    "        url = f\"VHRSC/{seasons[metadata['arg2']['selected_option']]}\"+\"/LIS/{z}/{x}/{y}.png?colormap=terrain&stretch_range=[0.00010455249866936356,0.06766455620527267]\"\n",
    "        visualize_COG(BASE_URL+url)\n",
    "    else:\n",
    "        print(\"Select season: \", end=\"\")\n",
    "        drop_down(get_key(seasons), id='arg2', metadata=metadata)\n",
    "def handle_trmm_lis_monthly(metadata={}):\n",
    "    clear_cell_and_render(metadata) \n",
    "    #name is already selected, ask for which season now\n",
    "    if metadata.get('arg2') != None:\n",
    "        url = f\"VHRMC/{months[metadata['arg2']['selected_option']]}\"+\"/LIS/{z}/{x}/{y}.png?colormap=terrain&stretch_range=[0.00010455249866936356,0.06766455620527267]\"\n",
    "        visualize_COG(BASE_URL+url)\n",
    "    else:\n",
    "        print(\"Select month: \", end=\"\")\n",
    "        drop_down(get_key(months), id='arg2', metadata=metadata)\n",
    "def handle_trmm_lis_diurnal(metadata={}):\n",
    "    clear_cell_and_render(metadata) \n",
    "    #name is already selected, ask for which season now\n",
    "    if metadata.get('arg2') != None:\n",
    "        url = f\"VHRDC/{diurnal[metadata['arg2']['selected_option']]}\"+\"/LIS/{z}/{x}/{y}.png?colormap=terrain&stretch_range=[0.00010455249866936356,0.06766455620527267]\"\n",
    "        visualize_COG(BASE_URL+url)\n",
    "    else:\n",
    "        print(\"Select Time: \", end=\"\")\n",
    "        drop_down(get_key(diurnal), id='arg2', metadata=metadata)\n",
    "def handle_trmm_lis_daily(metadata={}):\n",
    "    clear_cell_and_render(metadata) \n",
    "    #name is already selected, ask for which season now\n",
    "    if metadata.get('arg2') != None:\n",
    "        url = f\"VHRAC/{daily[metadata['arg2']['selected_option']]}\"+\"/LIS/{z}/{x}/{y}.png?colormap=terrain&stretch_range=[0.00010455249866936356,0.06766455620527267]\"\n",
    "        visualize_COG(BASE_URL+url)\n",
    "    else:\n",
    "        print(\"Select day: \", end=\"\")\n",
    "        drop_down(get_key(daily), id='arg2', metadata=metadata)\n",
    "        \n",
    "##################################################Handlers for OTD dataset################################################\n",
    "def handle_otd_full(metadata={}):\n",
    "    clear_cell_and_render(metadata)\n",
    "    visualize_COG(BASE_URL+\"HRFC/201301/OTD/{z}/{x}/{y}.png?colormap=terrain&stretch_range=[0.325,55.426]\")\n",
    "def handle_otd_monthly(metadata={}):\n",
    "    clear_cell_and_render(metadata) \n",
    "    #name is already selected, ask for which season now\n",
    "    if metadata.get('arg2') != None:\n",
    "        url = f\"HRMC/{months[metadata['arg2']['selected_option']]}\"+\"/OTD/{z}/{x}/{y}.png?colormap=terrain&stretch_range=[0,0.2]\"\n",
    "        visualize_COG(BASE_URL+url)\n",
    "    else:\n",
    "        print(\"Select month: \", end=\"\")\n",
    "        drop_down(get_key(months), id='arg2', metadata=metadata)\n",
    "def handle_otd_diurnal(metadata={}):\n",
    "    clear_cell_and_render(metadata) \n",
    "    #name is already selected, ask for which season now\n",
    "    if metadata.get('arg2') != None:\n",
    "        url = f\"LRDC/{diurnal[metadata['arg2']['selected_option']]}\"+\"/OTD/{z}/{x}/{y}.png?colormap=terrain&stretch_range=[0,0.002]\"\n",
    "        visualize_COG(BASE_URL+url)\n",
    "    else:\n",
    "        print(\"Select Time: \", end=\"\")\n",
    "        drop_down(get_key(diurnal), id='arg2', metadata=metadata)\n",
    "def handle_otd_daily(metadata={}):\n",
    "    clear_cell_and_render(metadata) \n",
    "    #name is already selected, ask for which season now\n",
    "    if metadata.get('arg2') != None:\n",
    "        url = f\"HRAC/{daily[metadata['arg2']['selected_option']]}\"+\"/OTD/{z}/{x}/{y}.png?colormap=terrain&stretch_range=[0.00010455249866936356,0.06766455620527267]\"\n",
    "        visualize_COG(BASE_URL+url)\n",
    "    else:\n",
    "        print(\"Select day: \", end=\"\")\n",
    "        drop_down(get_key(daily), id='arg2', metadata=metadata)\n",
    "###################################################Handlers for isslis, nalma and hs3######################################\n",
    "#url=https://s23k5d19rl.execute-api.us-west-2.amazonaws.com/arg4?name=isslis&year=2022&month=03&day=24\n",
    "base_url = \"https://s23k5d19rl.execute-api.us-west-2.amazonaws.com/\"\n",
    "def handle_isslis(metadata={}):\n",
    "    clear_cell_and_render(metadata)\n",
    "    if metadata.get('arg2') == None:\n",
    "        print(\"Select year: \", end=\"\")\n",
    "        response = requests.get(f\"{base_url}arg1?name=isslis\")\n",
    "        response = json.loads(response.text)\n",
    "        drop_down(response, id='arg2', metadata=metadata)\n",
    "    else:\n",
    "        if metadata.get('arg3') == None:\n",
    "            print(\"Select month: \", end=\"\")\n",
    "            response = requests.get(f\"{base_url}arg2?name=isslis&year={metadata['arg2']['selected_option']}\")\n",
    "            response = json.loads(response.text)\n",
    "            drop_down(response, id='arg3', metadata=metadata)\n",
    "        else:\n",
    "            if metadata.get('arg4') == None:\n",
    "                print(\"Select day: \", end=\"\")\n",
    "                response = requests.get(f\"{base_url}arg3?name=isslis&year={metadata['arg2']['selected_option']}&month={metadata['arg3']['selected_option']}\")\n",
    "                response = json.loads(response.text)\n",
    "                drop_down(response, id='arg4', metadata=metadata)\n",
    "            else:\n",
    "                if metadata.get('arg5') == None:\n",
    "                    print(\"Select Time/Instrumnet: \", end=\"\")\n",
    "                    response = requests.get(f\"{base_url}arg4?name=isslis&year={metadata['arg2']['selected_option']}&month={metadata['arg3']['selected_option']}&day={metadata['arg4']['selected_option']}\")\n",
    "                    response = json.loads(response.text)\n",
    "                    drop_down(response, id='arg5', metadata=metadata)\n",
    "                else:\n",
    "                    year = metadata['arg2']['selected_option']\n",
    "                    month = metadata['arg3']['selected_option']\n",
    "                    day = metadata['arg4']['selected_option']\n",
    "                    arg4 = metadata['arg5']['selected_option']\n",
    "                    url = f\"ISS_LIS/{year}{month}{day}/{arg4}\"+\"/{z}/{x}/{y}.png?colormap=terrain&stretch_range=[0,0]\"\n",
    "                    print(url)\n",
    "                    visualize_COG(BASE_URL+url)\n",
    "    \n",
    "def handle_nalma(metadata={}):\n",
    "    clear_cell_and_render(metadata)\n",
    "def handle_otd(metadata={}):\n",
    "    clear_cell_and_render(metadata)"
   ]
  },
  {
   "cell_type": "code",
   "execution_count": 79,
   "id": "1ffee414",
   "metadata": {},
   "outputs": [
    {
     "name": "stdout",
     "output_type": "stream",
     "text": [
      "Select a dataset from the options below: "
     ]
    },
    {
     "data": {
      "application/vnd.jupyter.widget-view+json": {
       "model_id": "6d3afb5036f049b1b2e9155e81c19ed4",
       "version_major": 2,
       "version_minor": 0
      },
      "text/plain": [
       "Dropdown(index=9, options=('TRMM_LIS_FULL', 'TRMM_LIS_SEASONAL', 'TRMM_LIS_MONTHLY', 'TRMM_LIS_DIURNAL', 'TRMM…"
      ]
     },
     "metadata": {},
     "output_type": "display_data"
    },
    {
     "name": "stdout",
     "output_type": "stream",
     "text": [
      "Select year: "
     ]
    },
    {
     "data": {
      "application/vnd.jupyter.widget-view+json": {
       "model_id": "8d01b78beb2345ca8de191762890bf18",
       "version_major": 2,
       "version_minor": 0
      },
      "text/plain": [
       "Dropdown(options=('2022',), value='2022')"
      ]
     },
     "metadata": {},
     "output_type": "display_data"
    },
    {
     "name": "stdout",
     "output_type": "stream",
     "text": [
      "Select month: "
     ]
    },
    {
     "data": {
      "application/vnd.jupyter.widget-view+json": {
       "model_id": "d4ae3ef738554c23bea39074b0ae78f5",
       "version_major": 2,
       "version_minor": 0
      },
      "text/plain": [
       "Dropdown(index=1, options=('03', '04', '05', '06'), value='04')"
      ]
     },
     "metadata": {},
     "output_type": "display_data"
    },
    {
     "name": "stdout",
     "output_type": "stream",
     "text": [
      "Select day: "
     ]
    },
    {
     "data": {
      "application/vnd.jupyter.widget-view+json": {
       "model_id": "785b70204e0e4db5808b55f094322c29",
       "version_major": 2,
       "version_minor": 0
      },
      "text/plain": [
       "Dropdown(index=16, options=('10', '11', '12', '13', '14', '15', '16', '17', '18', '19', '20', '21', '22', '23'…"
      ]
     },
     "metadata": {},
     "output_type": "display_data"
    },
    {
     "name": "stdout",
     "output_type": "stream",
     "text": [
      "Select Time/Instrumnet: "
     ]
    },
    {
     "data": {
      "application/vnd.jupyter.widget-view+json": {
       "model_id": "7dbefdb9328145898cfffc54d6ba5a94",
       "version_major": 2,
       "version_minor": 0
      },
      "text/plain": [
       "Dropdown(options=('013541', '030833', '044125', '061416', '074708', '091959', '105251', '122543', '135834', '1…"
      ]
     },
     "metadata": {},
     "output_type": "display_data"
    }
   ],
   "source": [
    "print(\"Select a dataset from the options below: \", end=\"\")\n",
    "drop_down(DATASETS, id='name', metadata={})"
   ]
  },
  {
   "cell_type": "code",
   "execution_count": null,
   "id": "9aaa3211",
   "metadata": {},
   "outputs": [],
   "source": []
  },
  {
   "cell_type": "code",
   "execution_count": null,
   "id": "7e31b0d6",
   "metadata": {},
   "outputs": [],
   "source": []
  }
 ],
 "metadata": {
  "kernelspec": {
   "display_name": "Python 3 (ipykernel)",
   "language": "python",
   "name": "python3"
  },
  "language_info": {
   "codemirror_mode": {
    "name": "ipython",
    "version": 3
   },
   "file_extension": ".py",
   "mimetype": "text/x-python",
   "name": "python",
   "nbconvert_exporter": "python",
   "pygments_lexer": "ipython3",
   "version": "3.8.10"
  }
 },
 "nbformat": 4,
 "nbformat_minor": 5
}
