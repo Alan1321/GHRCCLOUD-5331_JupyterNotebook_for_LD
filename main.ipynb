{
 "cells": [
  {
   "cell_type": "code",
   "execution_count": 238,
   "id": "804bee51",
   "metadata": {},
   "outputs": [],
   "source": [
    "import rasterio\n",
    "from rasterio.plot import show\n",
    "from matplotlib import pyplot\n",
    "import plotly.io as pio\n",
    "import plotly.express as px\n",
    "import pandas as pd\n",
    "import ipywidgets as widgets\n",
    "from IPython.display import display\n",
    "from IPython.display import clear_output"
   ]
  },
  {
   "cell_type": "code",
   "execution_count": 239,
   "id": "d90e7c2c",
   "metadata": {},
   "outputs": [],
   "source": [
    "def visualize_GEOTIFF(layer_url):\n",
    "    dataset = rasterio.open(layer_url)\n",
    "    pyplot.figure(figsize=(50, 25))\n",
    "    show(dataset)\n",
    "    \n",
    "def visualize_COG(layer_url):\n",
    "    pio.renderers.default = 'notebook'\n",
    "    # pio.renderers.default = 'jupyterlab'\n",
    "    # pio.renderers.default = 'colab'\n",
    "    \n",
    "    # seed value, for mapbox to load in colab\n",
    "    df = pd.DataFrame([[1001, 5.3],[1001, 5.3]])\n",
    "    df.columns = [\"flips\", \"unemp\"]\n",
    "    fig = px.choropleth_mapbox(\n",
    "                                df, \n",
    "                                color='unemp',\n",
    "                                color_continuous_scale=\"Viridis\",\n",
    "                                range_color=(0, 12),\n",
    "                                mapbox_style=\"carto-positron\",\n",
    "                                zoom=4, center = {\"lat\": 33.543682, \"lon\": -86.779633},\n",
    "                                opacity=0.5,\n",
    "                              )\n",
    "    #print(type(layer_url))\n",
    "    fig.update_layout(\n",
    "        mapbox_layers=[\n",
    "            {\n",
    "                \"sourcetype\": \"raster\",\n",
    "                \"source\": [layer_url]\n",
    "            }\n",
    "          ])\n",
    "    fig.update_layout(margin={\"r\":0,\"t\":0,\"l\":0,\"b\":0})\n",
    "    #print(fig.layout.mapbox.layers)\n",
    "    fig.update_layout(mapbox_style=\"stamen-terrain\")\n",
    "    fig.layout.mapbox.zoom = 1\n",
    "    fig.show()\n",
    "\n",
    "def drop_down(options, metadata={}, value=None):\n",
    "    # Define the options for the dropdown\n",
    "    dropdown_options = ['Option 1', 'Option 2', 'Option 3']\n",
    "\n",
    "    # Create the dropdown widget\n",
    "    dropdown = widgets.Dropdown(options=DATASETS, description='', value=value)\n",
    "\n",
    "    # Define a function to handle the dropdown's value change\n",
    "    def handle_dropdown_change(change):\n",
    "        selected_option = change.new\n",
    "        # Perform actions based on the selected option\n",
    "        handle_dataset_input(metadata)\n",
    "\n",
    "    # Attach the function to the dropdown's value change event\n",
    "    dropdown.observe(handle_dropdown_change, names='value')\n",
    "\n",
    "    # Display the dropdown widget\n",
    "    display(dropdown)\n",
    "\n",
    "def handle_dataset_input(metadata):\n",
    "    if selected_dataset == 'TRMM_LIS_FULL':\n",
    "        handle_trmm_lis_full(BASE_URL)\n",
    "    elif selected_dataset == 'TRMM_LIS_SEASONAL':\n",
    "        handle_trmm_lis_seasonal(BASE_URL)\n",
    "\n",
    "def clear_cell(value):\n",
    "    clear_output(wait=True)\n",
    "    print(\"Select a dataset from the options below: \", end=\"\")\n",
    "    selected_dataset = drop_down(DATASETS, value=value)"
   ]
  },
  {
   "cell_type": "code",
   "execution_count": 240,
   "id": "9eb206ae",
   "metadata": {},
   "outputs": [],
   "source": [
    "#handler for different datasets\n",
    "def handle_trmm_lis_full(BASE_URL, metadata):\n",
    "    clear_cell(value=\"TRMM_LIS_FULL\")\n",
    "    visualize_COG(BASE_URL+\"VHRFC/201301/LIS/{z}/{x}/{y}.png?colormap=terrain&stretch_range=[0.325,23.426]\")\n",
    "def handle_trmm_lis_seasonal(BASE_URL, metadata):\n",
    "    clear_cell(value=\"TRMM_LIS_SEASONAL\")\n",
    "    print(\"im in seasonal\")\n",
    "def handle_trmm_lis_monthly():\n",
    "    pass\n",
    "def handle_trmm_lis_diurnal():\n",
    "    pass\n",
    "def handle_trmm_lis_daily():\n",
    "    pass\n",
    "def handle_otd_full():\n",
    "    pass\n",
    "def handle_otd_monthly():\n",
    "    pass\n",
    "def handle_otd_diurnal():\n",
    "    pass\n",
    "def handle_otd_daily():\n",
    "    pass\n",
    "def handle_isslis():\n",
    "    pass\n",
    "def handle_hs3():\n",
    "    pass\n",
    "def handle_nalma():\n",
    "    pass"
   ]
  },
  {
   "cell_type": "code",
   "execution_count": 241,
   "id": "8f9f8d7b",
   "metadata": {},
   "outputs": [],
   "source": [
    "#constants\n",
    "DATASETS = ['TRMM_LIS_FULL','TRMM_LIS_SEASONAL','TRMM_LIS_MONTHLY', 'TRMM_LIS_DIURNAL', 'TRMM_LIS_DAILY']\n",
    "BASE_URL = 'https://wug8w3fg42.execute-api.us-west-2.amazonaws.com/development/singleband/'"
   ]
  },
  {
   "cell_type": "code",
   "execution_count": 242,
   "id": "6f291499",
   "metadata": {},
   "outputs": [
    {
     "name": "stdout",
     "output_type": "stream",
     "text": [
      "Select a dataset from the options below: "
     ]
    },
    {
     "data": {
      "application/vnd.jupyter.widget-view+json": {
       "model_id": "d115feab35f848d9ba8a4fa0fbbbbf14",
       "version_major": 2,
       "version_minor": 0
      },
      "text/plain": [
       "Dropdown(options=('TRMM_LIS_FULL', 'TRMM_LIS_SEASONAL', 'TRMM_LIS_MONTHLY', 'TRMM_LIS_DIURNAL', 'TRMM_LIS_DAIL…"
      ]
     },
     "metadata": {},
     "output_type": "display_data"
    }
   ],
   "source": [
    "print(\"Select a dataset from the options below: \", end=\"\")\n",
    "selected_dataset = drop_down(DATASETS)"
   ]
  },
  {
   "cell_type": "code",
   "execution_count": null,
   "id": "56329e76",
   "metadata": {},
   "outputs": [],
   "source": []
  }
 ],
 "metadata": {
  "kernelspec": {
   "display_name": "Python 3 (ipykernel)",
   "language": "python",
   "name": "python3"
  },
  "language_info": {
   "codemirror_mode": {
    "name": "ipython",
    "version": 3
   },
   "file_extension": ".py",
   "mimetype": "text/x-python",
   "name": "python",
   "nbconvert_exporter": "python",
   "pygments_lexer": "ipython3",
   "version": "3.8.10"
  }
 },
 "nbformat": 4,
 "nbformat_minor": 5
}
