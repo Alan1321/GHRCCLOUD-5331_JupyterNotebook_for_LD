{
 "cells": [
  {
   "cell_type": "code",
   "execution_count": 41,
   "id": "94b56269",
   "metadata": {},
   "outputs": [],
   "source": [
    "#constants\n",
    "DATASETS = ['TRMM_LIS_FULL','TRMM_LIS_SEASONAL' ,'TRMM_LIS_MONTHLY','TRMM_LIS_DIURNAL','TRMM_LIS_DAILY']\n"
   ]
  },
  {
   "cell_type": "code",
   "execution_count": 42,
   "id": "3cf2a1da",
   "metadata": {},
   "outputs": [
    {
     "name": "stdout",
     "output_type": "stream",
     "text": [
      "Select the dataset\n"
     ]
    }
   ],
   "source": [
    "def myfunction(x): \n",
    "    return x\n",
    "print(\"Select the dataset\")"
   ]
  },
  {
   "cell_type": "code",
   "execution_count": 47,
   "id": "f5c1428a",
   "metadata": {},
   "outputs": [],
   "source": [
    "import ipywidgets as widgets\n",
    "from IPython.display import display\n",
    "\n",
    "def drop_down(options):\n",
    "    # Define the options for the dropdown\n",
    "    dropdown_options = ['Option 1', 'Option 2', 'Option 3']\n",
    "\n",
    "    # Create the dropdown widget\n",
    "    dropdown = widgets.Dropdown(options=DATASETS, description='', value=None)\n",
    "\n",
    "    # Define a function to handle the dropdown's value change\n",
    "    def handle_dropdown_change(change):\n",
    "        selected_option = change.new\n",
    "        # Perform actions based on the selected option\n",
    "        return selected_option\n",
    "\n",
    "    # Attach the function to the dropdown's value change event\n",
    "    dropdown.observe(handle_dropdown_change, names='value')\n",
    "\n",
    "    # Display the dropdown widget\n",
    "    display(dropdown)"
   ]
  },
  {
   "cell_type": "code",
   "execution_count": 48,
   "id": "34f1399f",
   "metadata": {},
   "outputs": [
    {
     "name": "stdout",
     "output_type": "stream",
     "text": [
      "Select a dataset from the options below: "
     ]
    },
    {
     "data": {
      "application/vnd.jupyter.widget-view+json": {
       "model_id": "3214cf2027dd453a96f4dffdc083b7b7",
       "version_major": 2,
       "version_minor": 0
      },
      "text/plain": [
       "Dropdown(options=('TRMM_LIS_FULL', 'TRMM_LIS_SEASONAL', 'TRMM_LIS_MONTHLY', 'TRMM_LIS_DIURNAL', 'TRMM_LIS_DAIL…"
      ]
     },
     "metadata": {},
     "output_type": "display_data"
    }
   ],
   "source": [
    "print(\"Select a dataset from the options below: \", end=\"\")\n",
    "selected_dataset = drop_down(DATASETS)"
   ]
  },
  {
   "cell_type": "code",
   "execution_count": null,
   "id": "eb0f81a9",
   "metadata": {},
   "outputs": [],
   "source": []
  }
 ],
 "metadata": {
  "kernelspec": {
   "display_name": "Python 3 (ipykernel)",
   "language": "python",
   "name": "python3"
  },
  "language_info": {
   "codemirror_mode": {
    "name": "ipython",
    "version": 3
   },
   "file_extension": ".py",
   "mimetype": "text/x-python",
   "name": "python",
   "nbconvert_exporter": "python",
   "pygments_lexer": "ipython3",
   "version": "3.8.10"
  }
 },
 "nbformat": 4,
 "nbformat_minor": 5
}
